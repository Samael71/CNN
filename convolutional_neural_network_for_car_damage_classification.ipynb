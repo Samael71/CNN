{
  "nbformat": 4,
  "nbformat_minor": 0,
  "metadata": {
    "colab": {
      "name": "convolutional_neural_network for car damage detection.ipynb",
      "provenance": [],
      "collapsed_sections": [],
      "toc_visible": true
    },
    "kernelspec": {
      "name": "python3",
      "display_name": "Python 3"
    }
  },
  "cells": [
    {
      "cell_type": "markdown",
      "metadata": {
        "id": "3DR-eO17geWu"
      },
      "source": [
        "# Convolutional Neural Network"
      ]
    },
    {
      "cell_type": "markdown",
      "metadata": {
        "id": "EMefrVPCg-60"
      },
      "source": [
        "### Importing the libraries"
      ]
    },
    {
      "cell_type": "code",
      "metadata": {
        "id": "sCV30xyVhFbE"
      },
      "source": [
        "import pandas as pd\n",
        "import tensorflow as tf\n",
        "from tensorflow import keras\n",
        "from keras import layers\n",
        "import numpy as np\n",
        "from keras.preprocessing.image import ImageDataGenerator"
      ],
      "execution_count": null,
      "outputs": []
    },
    {
      "cell_type": "code",
      "metadata": {
        "id": "FIleuCAjoFD8"
      },
      "source": [
        "tf.__version__"
      ],
      "execution_count": null,
      "outputs": []
    },
    {
      "cell_type": "markdown",
      "metadata": {
        "id": "oxQxCBWyoGPE"
      },
      "source": [
        "## Part 1 - Data Preprocessing"
      ]
    },
    {
      "cell_type": "markdown",
      "source": [
        "###Importing the data"
      ],
      "metadata": {
        "id": "1xcTkAcruSI3"
      }
    },
    {
      "cell_type": "code",
      "source": [
        "classes = [\"unknown\", \"head lamp\", \"door scratch\", \"glass shatter\", \"tail lamp\", \"bumper dent\", \"bumper scratch\", \"door dent\"]\n",
        "print(sorted(classes))\n",
        "directory = 'car_wreck_csv/'\n",
        "df = pd.read_csv(directory+'data.csv')\n",
        "df.drop(df.index[1512:], inplace=True)"
      ],
      "metadata": {
        "id": "DkzbTN_DuTHt"
      },
      "execution_count": null,
      "outputs": []
    },
    {
      "cell_type": "markdown",
      "metadata": {
        "id": "MvE-heJNo3GG"
      },
      "source": [
        "### Preprocessing the Training set"
      ]
    },
    {
      "cell_type": "code",
      "metadata": {
        "id": "0koUcJMJpEBD"
      },
      "source": [
        "train_datagen = ImageDataGenerator(rescale = 1./224,\n",
        "                                   shear_range = 0.2,\n",
        "                                   zoom_range = 0.2,\n",
        "                                   horizontal_flip = True,\n",
        "                                   validation_split=0.1)\n",
        "train_set = train_datagen.flow_from_dataframe( df,\n",
        "                                        directory=directory,\n",
        "                                        x_col=\"image\",\n",
        "                                        y_col=\"classes\",\n",
        "                                        target_size=(224,224),\n",
        "                                        batch_size=8,\n",
        "                                        class_mode=\"categorical\",\n",
        "                                        subset=\"training\"\n",
        ")"
      ],
      "execution_count": null,
      "outputs": []
    },
    {
      "cell_type": "markdown",
      "metadata": {
        "id": "mrCMmGw9pHys"
      },
      "source": [
        "### Preprocessing the validation set"
      ]
    },
    {
      "cell_type": "code",
      "metadata": {
        "id": "SH4WzfOhpKc3"
      },
      "source": [
        "val_datagen = ImageDataGenerator(rescale = 1./224, validation_split=0.1)\n",
        "val_set = val_datagen.flow_from_dataframe(df,\n",
        "                                  directory=directory,\n",
        "                                  x_col=\"image\",\n",
        "                                  y_col=\"classes\",\n",
        "                                  target_size=(224,224),\n",
        "                                  batch_size=8,\n",
        "                                  class_mode=\"categorical\",\n",
        "                                  subset=\"validation\"\n",
        ")"
      ],
      "execution_count": null,
      "outputs": []
    },
    {
      "cell_type": "markdown",
      "metadata": {
        "id": "af8O4l90gk7B"
      },
      "source": [
        "## Part 2 - Building the CNN"
      ]
    },
    {
      "cell_type": "markdown",
      "source": [
        "The commented out blocks of the code are all addiction added to try to improve the val_accuracy of this model."
      ],
      "metadata": {
        "id": "tmGlfawEafEK"
      }
    },
    {
      "cell_type": "code",
      "metadata": {
        "id": "1p_Zj1Mc3Ko_"
      },
      "source": [
        "model = keras.Sequential([\n",
        "    layers.Conv2D(filters=32, kernel_size=3, activation='relu', input_shape=[224, 224, 3]),\n",
        "    layers.MaxPool2D(pool_size=2, strides=2),\n",
        "    #layers.Dropout(0.5),\n",
        "    layers.Conv2D(filters=32, kernel_size=3, activation='relu'),\n",
        "    layers.MaxPool2D(pool_size=2, strides=2),\n",
        "    #layers.Dropout(0.5),\n",
        "    #layers.Conv2D(filters=32, kernel_size=3, activation='relu'),\n",
        "    #layers.MaxPool2D(pool_size=2, strides=2),\n",
        "    #layers.Conv2D(filters=64, kernel_size=3, activation='relu'),\n",
        "    #layers.MaxPool2D(pool_size=2, strides=2),\n",
        "    layers.Flatten(),\n",
        "    #layers.BatchNormalization(),\n",
        "    #layers.Dropout(0.5),\n",
        "    layers.Dense(units=64, activation=\"relu\"),\n",
        "    #layers.BatchNormalization(),\n",
        "    layers.Dense(units=8, activation = \"softmax\")\n",
        "])"
      ],
      "execution_count": null,
      "outputs": []
    },
    {
      "cell_type": "markdown",
      "metadata": {
        "id": "D6XkI90snSDl"
      },
      "source": [
        "## Part 3 - Training the CNN"
      ]
    },
    {
      "cell_type": "markdown",
      "metadata": {
        "id": "vfrFQACEnc6i"
      },
      "source": [
        "### Compiling the CNN"
      ]
    },
    {
      "cell_type": "code",
      "metadata": {
        "id": "NALksrNQpUlJ"
      },
      "source": [
        "model.compile(\n",
        "    optimizer=keras.optimizers.Adam(0.001),\n",
        "    loss='categorical_crossentropy',\n",
        "    metrics=[\"accuracy\"]\n",
        ")"
      ],
      "execution_count": null,
      "outputs": []
    },
    {
      "cell_type": "markdown",
      "metadata": {
        "id": "ehS-v3MIpX2h"
      },
      "source": [
        "### Training the CNN on the Training set and evaluating it on the Test set"
      ]
    },
    {
      "cell_type": "code",
      "metadata": {
        "id": "XUj1W4PJptta"
      },
      "source": [
        "model.fit(\n",
        "    train_set,\n",
        "    validation_data=val_set,\n",
        "    epochs=20\n",
        "    #callbacks=[tf.keras.callbacks.EarlyStopping(\n",
        "        #monitor='val_accuracy',\n",
        "        #min_delta=0.01,\n",
        "        #patience=4,\n",
        "        #mode='auto',\n",
        "        #baseline=0.30,\n",
        "        #restore_best_weights=True\n",
        "    #)]\n",
        ")"
      ],
      "execution_count": null,
      "outputs": []
    },
    {
      "cell_type": "markdown",
      "metadata": {
        "id": "U3PZasO0006Z"
      },
      "source": [
        "## Part 4 - Making a single prediction"
      ]
    },
    {
      "cell_type": "code",
      "metadata": {
        "id": "gsSiWEJY1BPB"
      },
      "source": [
        "test_image = tf.keras.utils.load_img(directory + 'test1.jpg', target_size=(224, 224))\n",
        "test_image = tf.keras.utils.img_to_array(test_image)\n",
        "test_image = np.expand_dims(test_image, axis=0)\n",
        "print(model.predict(test_image))\n",
        "result = np.argmax(model.predict(test_image))\n",
        "predicted_label = sorted(classes)[result]\n",
        "\n"
      ],
      "execution_count": null,
      "outputs": []
    },
    {
      "cell_type": "code",
      "metadata": {
        "id": "ED9KB3I54c1i"
      },
      "source": [
        "print(predicted_label)"
      ],
      "execution_count": null,
      "outputs": []
    },
    {
      "cell_type": "markdown",
      "source": [
        "Having trained the model and used it to predict with different variations of this code's hyper-parameters, we notice that the val accuracy doesn't go higher than around 57%. \n",
        "\n",
        "This might be the consequence of having a relatively small dataset of only 1500 images and 8 classes. \n",
        "\n",
        "A suggested solution is to use transfered learning with a pre trained base in car features."
      ],
      "metadata": {
        "id": "c5t_V2AYwT-y"
      }
    }
  ]
}
