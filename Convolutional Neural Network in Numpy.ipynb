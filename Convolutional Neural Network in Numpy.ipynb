{
 "cells": [
  {
   "cell_type": "code",
   "execution_count": 1,
   "id": "9515a852",
   "metadata": {},
   "outputs": [],
   "source": [
    "import numpy as np\n",
    "import pandas as pd \n",
    "from matplotlib import pyplot as plt"
   ]
  },
  {
   "cell_type": "markdown",
   "id": "596b7e8f",
   "metadata": {},
   "source": [
    "### Preprocessing the data:"
   ]
  },
  {
   "cell_type": "code",
   "execution_count": 2,
   "id": "e62813e3",
   "metadata": {},
   "outputs": [],
   "source": [
    "np.random.seed(42)\n",
    "\n",
    "#Importing the dataset\n",
    "dataset = pd.read_csv('train.csv')\n",
    "\n",
    "#Shuffling the dataset\n",
    "dataset = dataset.sample(frac=1, random_state=42)\n",
    "\n",
    "#Making sure the dataset is balanced\n",
    "train_data = pd.DataFrame()\n",
    "test_data = pd.DataFrame()\n",
    "for label in range (10):\n",
    "    train_label_data = dataset[dataset['label']==label].head(500)\n",
    "    test_label_data = dataset[dataset['label']==label].iloc[500:600,:]\n",
    "    train_data = pd.concat([train_data, train_label_data])\n",
    "    test_data = pd.concat([test_data, test_label_data])\n",
    "\n",
    "#One hot encoding the labels\n",
    "def one_hot_encoding(df, column_name):\n",
    "    one_hot_labels = pd.get_dummies(df[column_name])\n",
    "    dff = pd.concat([df,one_hot_labels], axis=1)\n",
    "    dff.drop(column_name, axis = 1, inplace = True) \n",
    "    return dff\n",
    "\n",
    "train_data = one_hot_encoding(train_data, 'label')\n",
    "test_data = one_hot_encoding(test_data, 'label')"
   ]
  },
  {
   "cell_type": "code",
   "execution_count": 3,
   "id": "c2ff2641",
   "metadata": {},
   "outputs": [],
   "source": [
    "train_data.reset_index(drop=True, inplace=True)"
   ]
  },
  {
   "cell_type": "code",
   "execution_count": 4,
   "id": "3dd50fc9",
   "metadata": {},
   "outputs": [],
   "source": [
    "#From dataframes to numpy arrays\n",
    "X_train = train_data.iloc[:, 0:784].values\n",
    "X_test = test_data.iloc[:, 0:784].values\n",
    "y_train = train_data.iloc[:, 784:794].values\n",
    "y_test = test_data.iloc[:, 784:794].values"
   ]
  },
  {
   "cell_type": "code",
   "execution_count": 5,
   "id": "59e1efce",
   "metadata": {},
   "outputs": [],
   "source": [
    "#Reshaping the data\n",
    "X_train_r = np.zeros((X_train.shape[0], 1, 28, 28), dtype=np.float64)\n",
    "X_test_r = np.zeros((X_test.shape[0], 1, 28, 28), dtype=np.float64)\n",
    "\n",
    "for im in range(X_train_r.shape[0]):\n",
    "    X = X_train[im,:]\n",
    "    X = np.ravel(X)\n",
    "    X = X.reshape((1, 28, 28))\n",
    "    X_train_r[im,0,:,:] = X\n",
    "X_train = X_train_r\n",
    "for im in range (X_test_r.shape[0]):\n",
    "    X = X_test[im,:]\n",
    "    X = np.ravel(X)\n",
    "    X = X.reshape((1, 28, 28))\n",
    "    X_test_r[im,0,:,:] = X\n",
    "X_test = X_test_r"
   ]
  },
  {
   "cell_type": "code",
   "execution_count": 6,
   "id": "cb67fef6",
   "metadata": {},
   "outputs": [
    {
     "data": {
      "image/png": "[encoded data removed]",
      "text/plain": [
       "<Figure size 432x288 with 1 Axes>"
      ]
     },
     "metadata": {
      "needs_background": "light"
     },
     "output_type": "display_data"
    }
   ],
   "source": [
    "%matplotlib inline\n",
    "plt.imshow(X_train[800][0], interpolation='nearest')\n",
    "plt.show()"
   ]
  },
  {
   "cell_type": "markdown",
   "id": "cdaf2499",
   "metadata": {},
   "source": [
    "### Convolution and generating the Feature Map:"
   ]
  },
  {
   "cell_type": "markdown",
   "id": "a6ea5433",
   "metadata": {},
   "source": [
    "#### The filters"
   ]
  },
  {
   "cell_type": "code",
   "execution_count": 7,
   "id": "01d1da84",
   "metadata": {},
   "outputs": [
    {
     "data": {
      "text/plain": [
       "5"
      ]
     },
     "execution_count": 7,
     "metadata": {},
     "output_type": "execute_result"
    }
   ],
   "source": [
    "conv0 = np.random.randn(2,1,5,5)\n",
    "conv1 = conv0 * np.sqrt(1. / 5)\n",
    "conv1.shape[3]"
   ]
  },
  {
   "cell_type": "markdown",
   "id": "ff52c530",
   "metadata": {},
   "source": [
    "#### Generating the feature map"
   ]
  },
  {
   "cell_type": "code",
   "execution_count": 8,
   "id": "8ca32891",
   "metadata": {},
   "outputs": [],
   "source": [
    "#The stride is 1\n",
    "def conv_layers(data, filters):\n",
    "    fearture_map_dim = len(X_train[0][0])-len(conv1[0][0])+1\n",
    "    feature_map = np.zeros((X_train.shape[0], conv1.shape[0], fearture_map_dim, fearture_map_dim))\n",
    "    for i in range (X_train.shape[0]):\n",
    "        image = X_train[i][0]\n",
    "        for j in range (conv1.shape[0]):\n",
    "            filt = conv1[j][0]\n",
    "            for d1 in range(fearture_map_dim):\n",
    "                s1 = d1\n",
    "                e1 = s1 + conv1.shape[3]\n",
    "                for d2 in range(fearture_map_dim):\n",
    "                    s2 = d2\n",
    "                    e2 = s2 + conv1.shape[3]\n",
    "                    im_section = image[s1:e1, s2:e2]\n",
    "                    feature_section = np.dot(im_section, filt)\n",
    "                    feature = np.sum(feature_section)\n",
    "                    feature_map[i][j][d1][d2] = feature\n",
    "    return feature_map"
   ]
  },
  {
   "cell_type": "code",
   "execution_count": 9,
   "id": "8fdd16b3",
   "metadata": {},
   "outputs": [
    {
     "data": {
      "image/png": "[encoded data removed]",
      "text/plain": [
       "<Figure size 432x288 with 1 Axes>"
      ]
     },
     "metadata": {
      "needs_background": "light"
     },
     "output_type": "display_data"
    }
   ],
   "source": [
    "feature_map = conv_layers(X_train, conv1)\n",
    "plt.imshow(feature_map[0][0], interpolation='nearest')\n",
    "plt.show()"
   ]
  },
  {
   "cell_type": "code",
   "execution_count": 48,
   "id": "c24fbd9f",
   "metadata": {},
   "outputs": [
    {
     "data": {
      "text/plain": [
       "24"
      ]
     },
     "execution_count": 48,
     "metadata": {},
     "output_type": "execute_result"
    }
   ],
   "source": [
    "feature_map.shape[2]"
   ]
  },
  {
   "cell_type": "markdown",
   "id": "37a7ed82",
   "metadata": {},
   "source": [
    "### Useful functions:"
   ]
  },
  {
   "cell_type": "markdown",
   "id": "5cc536f0",
   "metadata": {},
   "source": [
    "#### ReLu"
   ]
  },
  {
   "cell_type": "code",
   "execution_count": 10,
   "id": "1b8227bf",
   "metadata": {},
   "outputs": [],
   "source": [
    "def ReLu(x):\n",
    "    return (x>0)*x"
   ]
  },
  {
   "cell_type": "markdown",
   "id": "76eb0bc6",
   "metadata": {},
   "source": [
    "#### MaxPool"
   ]
  },
  {
   "cell_type": "code",
   "execution_count": 78,
   "id": "f93b86b6",
   "metadata": {},
   "outputs": [],
   "source": [
    "def MaxPool(feature_map, stride=2):\n",
    "    filter_dim = 2\n",
    "    output_dim = int((feature_map.shape[2]-filter_dim)/stride)+1\n",
    "    pooled_list = []\n",
    "    pooled_rows = np.empty(shape=[filter_dim, output_dim])\n",
    "    pooled_features = np.zeros((feature_map.shape[0], feature_map.shape[1], output_dim, output_dim))\n",
    "    \n",
    "    for i in range(feature_map.shape[0]):\n",
    "        for j in range(feature_map.shape[1]):\n",
    "            image = feature_map[i][j]\n",
    "            for d1 in range (0, feature_map.shape[2], stride):\n",
    "                start1 = d1 #if d1 ==0 else d1*2)\n",
    "                end1 = d1 + filter_dim\n",
    "                if end1<=feature_map.shape[2]:\n",
    "                    image_rectangle =image[start1:end1, :]\n",
    "                    for d2 in range (0, feature_map.shape[2], stride):\n",
    "                        start2 = d2 #if d2 ==0 else d1*2)\n",
    "                        end2 = d2 + filter_dim\n",
    "                        if end2<=feature_map.shape[2]:\n",
    "                            image_section = image_rectangle[:,start2:end2]\n",
    "                            pooled_section = np.amax(image_section)\n",
    "                            pooled_list.append(pooled_section)      \n",
    "                    if (pooled_list != []):\n",
    "                        pooled_row = np.array(pooled_list)\n",
    "                        pooled_row = np.reshape(pooled_row, (1, output_dim))\n",
    "                        pooled_rows = np.concatenate((pooled_rows, pooled_row), axis = 0)\n",
    "                        pooled_list.clear()\n",
    "            pooled_features[i][j] = pooled_rows[1:13,:]\n",
    "    return pooled_features"
   ]
  },
  {
   "cell_type": "code",
   "execution_count": 79,
   "id": "cdb77b02",
   "metadata": {},
   "outputs": [],
   "source": [
    "pooled_features1 = MaxPool(feature_map)"
   ]
  },
  {
   "cell_type": "code",
   "execution_count": 80,
   "id": "564f6e51",
   "metadata": {},
   "outputs": [
    {
     "data": {
      "text/plain": [
       "(5000, 2, 12, 12)"
      ]
     },
     "execution_count": 80,
     "metadata": {},
     "output_type": "execute_result"
    }
   ],
   "source": [
    "pooled_features1.shape"
   ]
  },
  {
   "cell_type": "code",
   "execution_count": 81,
   "id": "32c8e815",
   "metadata": {},
   "outputs": [
    {
     "data": {
      "image/png": "[encoded data removed]",
      "text/plain": [
       "<Figure size 432x288 with 1 Axes>"
      ]
     },
     "metadata": {
      "needs_background": "light"
     },
     "output_type": "display_data"
    }
   ],
   "source": [
    "plt.imshow(pooled_features1[0][0], interpolation='nearest')\n",
    "plt.show()"
   ]
  },
  {
   "cell_type": "markdown",
   "id": "18472927",
   "metadata": {},
   "source": [
    "#### Softmax:"
   ]
  },
  {
   "cell_type": "code",
   "execution_count": null,
   "id": "6f04ad93",
   "metadata": {},
   "outputs": [],
   "source": [
    "def softmax(x):\n",
    "    return np.exp(x) / np.sum(np.exp(x), dim=1, keepdims = True)"
   ]
  },
  {
   "cell_type": "markdown",
   "id": "e3f35302",
   "metadata": {},
   "source": [
    "### Initialising the network:"
   ]
  },
  {
   "cell_type": "code",
   "execution_count": null,
   "id": "a11ff10f",
   "metadata": {},
   "outputs": [],
   "source": [
    "input_dim = feature_map.shape[1]\n",
    "hidden_dim1 = 256\n",
    "hidden_dim2 = 256\n",
    "output_dim = 10\n",
    "lambda_reg = 0.01"
   ]
  },
  {
   "cell_type": "code",
   "execution_count": null,
   "id": "bc970b51",
   "metadata": {},
   "outputs": [],
   "source": [
    "def network_innit(input_dim, hidden_dim1, hidden_dim2, output_dim):\n",
    "    model_dict = {}\n",
    "    W1 = np.random.randn((input_dim, hidden_dim1))\n",
    "    W2 = np.random.randn((hidden_dim1, hidden_dim2))\n",
    "    W3 = np.random.randn((hidden_dim2, output_dim))\n",
    "    b1 = np.zeros((1, hidden_dim1))\n",
    "    b2 = np.zeros((1, hidden_dim2))\n",
    "    b3 = np.zeros((1, output_dim))\n",
    "    model_dict['W1'] = W1\n",
    "    model_dict['W2'] = W2\n",
    "    model_dict['W3'] = W3\n",
    "    model_dict['b1'] = b1\n",
    "    model_dict['b2'] = b2\n",
    "    model_dict['b3'] = b3\n",
    "    return model_dict"
   ]
  },
  {
   "cell_type": "markdown",
   "id": "c9820ec9",
   "metadata": {},
   "source": [
    "### Forward Propagation:"
   ]
  },
  {
   "cell_type": "code",
   "execution_count": null,
   "id": "02ba3f57",
   "metadata": {},
   "outputs": [],
   "source": [
    "model_dict = network_innit(input_dim, hidden_dim1, hidden_dim2, output_dim)\n",
    "def get_param (model_dict):\n",
    "    W1 = model_dict['W1']\n",
    "    W2 = model_dict['W2']\n",
    "    W3 = model_dict['W3']\n",
    "    b1 = model_dict['b1']\n",
    "    b2 = model_dict['b2']\n",
    "    b3 = model_dict['b3']\n",
    "    \n",
    "    return W1, W2, W3, b1, b2, b3"
   ]
  },
  {
   "cell_type": "code",
   "execution_count": null,
   "id": "bcbdcf6e",
   "metadata": {},
   "outputs": [],
   "source": [
    "def forward(input_data, model_dict, filters):\n",
    "    W1, W2, W3, b1, b2, b3 = get_param(model_dict)\n",
    "    feature_map = conv_layers(input_data, filters)\n",
    "    activated_fm = ReLu(feature_map)\n",
    "    pooled_features = MaxPool(activated_fm)\n",
    "    X = pooled_features.reshape(pooled_features.shape[0], -1)\n",
    "    z1 = X.dot(W1) + b1\n",
    "    a1 = Relu(z1)\n",
    "    z2 = a1.dot(W2) + b2\n",
    "    a2 = Relu(z2)\n",
    "    z3 = a2.dot(W3) + b3\n",
    "    peridct = softmax(z3)\n",
    "    return peridict"
   ]
  },
  {
   "cell_type": "code",
   "execution_count": null,
   "id": "fd2bac02",
   "metadata": {},
   "outputs": [],
   "source": [
    "def get_predictions(predict):\n",
    "    return np.argmax(predict, axis=1)"
   ]
  },
  {
   "cell_type": "markdown",
   "id": "fbd9474e",
   "metadata": {},
   "source": [
    "### Loss:"
   ]
  },
  {
   "cell_type": "code",
   "execution_count": null,
   "id": "9efa5317",
   "metadata": {},
   "outputs": [],
   "source": [
    "def cross_entropy (predictions, labels):\n",
    "    W1, W2, W3, b1, b2, b3 = get_param(model_dict)\n",
    "    m = np.zeros(predictions.shape[0])\n",
    "    for i, correct_predict in enumerate(labels):\n",
    "        m[i] = predictions[i][correct_predict]\n",
    "    log_prob = - np.log(m)\n",
    "    loss = np.sum(log_prob)\n",
    "    reg_loss = (lambda_reg / 2)*(np.sum(np.sum(W1)+np.sum(W2)))\n",
    "    loss += reg_loss\n",
    "    return float(loss/labels.shape[0])"
   ]
  },
  {
   "cell_type": "markdown",
   "id": "74a5dead",
   "metadata": {},
   "source": [
    "### Back Propagation:"
   ]
  },
  {
   "cell_type": "code",
   "execution_count": null,
   "id": "e0cf421f",
   "metadata": {},
   "outputs": [],
   "source": [
    "def backprog(model_dict, )"
   ]
  }
 ],
 "metadata": {
  "kernelspec": {
   "display_name": "Python 3 (ipykernel)",
   "language": "python",
   "name": "python3"
  },
  "language_info": {
   "codemirror_mode": {
    "name": "ipython",
    "version": 3
   },
   "file_extension": ".py",
   "mimetype": "text/x-python",
   "name": "python",
   "nbconvert_exporter": "python",
   "pygments_lexer": "ipython3",
   "version": "3.9.12"
  }
 },
 "nbformat": 4,
 "nbformat_minor": 5
}
